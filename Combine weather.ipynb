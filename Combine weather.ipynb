{
 "cells": [
  {
   "cell_type": "code",
   "execution_count": 1,
   "metadata": {},
   "outputs": [],
   "source": [
    "import pandas as pd"
   ]
  },
  {
   "cell_type": "code",
   "execution_count": 4,
   "metadata": {},
   "outputs": [],
   "source": [
    "df_2006 = pd.read_csv('API weather Data/df_temp_2006.csv')"
   ]
  },
  {
   "cell_type": "code",
   "execution_count": 5,
   "metadata": {},
   "outputs": [],
   "source": [
    "df_2007 = pd.read_csv('API weather Data/df_temp_2007.csv')"
   ]
  },
  {
   "cell_type": "code",
   "execution_count": 34,
   "metadata": {},
   "outputs": [],
   "source": [
    "dfs = []\n",
    "for year in range(2006, 2018):\n",
    "    year_df = pd.read_csv('API weather Data/df_temp_{}.csv'.format(year))\n",
    "    dfs.append(year_df)\n",
    "dfs.append(pd.read_csv('API weather Data/df_temp_2018_1st_half.csv'))\n",
    "dfs.append(pd.read_csv('API weather Data/df_temp_2018_2nd_half.csv'))"
   ]
  },
  {
   "cell_type": "code",
   "execution_count": 48,
   "metadata": {},
   "outputs": [],
   "source": [
    "df = pd.concat(dfs, ignore_index=True)\n",
    "df.rename(columns={'Unnamed: 0':'Date', '0':'High_Temp'}, inplace = True)\n",
    "df.Date = pd.to_datetime(\n",
    "    df.Date, errors='coerce', infer_datetime_format = True)\n",
    "df.set_index('Date', inplace = True)"
   ]
  },
  {
   "cell_type": "code",
   "execution_count": 51,
   "metadata": {},
   "outputs": [],
   "source": [
    "df.to_csv('API weather Data/df_combined.csv')"
   ]
  },
  {
   "cell_type": "code",
   "execution_count": null,
   "metadata": {},
   "outputs": [],
   "source": []
  }
 ],
 "metadata": {
  "kernelspec": {
   "display_name": "Python 3",
   "language": "python",
   "name": "python3"
  },
  "language_info": {
   "codemirror_mode": {
    "name": "ipython",
    "version": 3
   },
   "file_extension": ".py",
   "mimetype": "text/x-python",
   "name": "python",
   "nbconvert_exporter": "python",
   "pygments_lexer": "ipython3",
   "version": "3.7.1"
  }
 },
 "nbformat": 4,
 "nbformat_minor": 2
}
